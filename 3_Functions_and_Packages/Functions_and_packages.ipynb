{
 "cells": [
  {
   "cell_type": "markdown",
   "metadata": {},
   "source": [
    "# Index\n",
    "\n",
    " 1. [Functions](#functions)\n",
    " 2. [Scope of variables](#scope)\n",
    " 3. [Packages](#packages)\n",
    "    1. [Installing packages](#installing)\n",
    "    2. [Importing packages](#importing)\n",
    "    3. [Importing your own code](#code)"
   ]
  },
  {
   "cell_type": "markdown",
   "metadata": {},
   "source": [
    "<a id='functions'></a>\n",
    "# Functions\n",
    "\n",
    "In the previous sections, we have how to declare variables, how to work with different Data Types and how to direct our code with conditions and loops.\n",
    "\n",
    "When programming, we are repeating many times the same operations all times so it would be a waste of time to have to write everything every time. It would be a good thing to have a way of reusing code. That is what functions are for.\n",
    "\n",
    "We have seen many examples already. `type(X)`, `help(X)`, `enumerate(X)`, `range(X)` and methods like `list.append(X)` are examples of functions that already exist and you can use. Many already-made functions exist in packages as we will see later. However, sometimes you may need to program your functions.\n",
    "\n",
    "The structure to define a function is,\n",
    "\n",
    "```python\n",
    "def name_of_function(arg1,arg2,arg3...,karg1=val1,karg2=val2...):\n",
    "    #some code\n",
    "\n",
    "    return any_variables_you_want_to_return\n",
    "```\n",
    "\n",
    "Some remarks: \n",
    " - `arg1`, `arg2`, `arg3`... are variables that you will always have to pass to the function. They always go at the beginning of the function.\n",
    " - `karg1`, `karg2`... are variables that are already initialized. That means that you can give them a new value and if you don't they will take the `val1`, `val` values.\n",
    " - Code inside the function has to be indented (tabulated), as in conditionals and loops.\n",
    " - The `return` is followed by variables that you want to return outside the function. If you do not write it, the function will return nothing.\n",
    " - When calling a function, you will always have to put parentheses after the name of the function, with any of the arguments that you want to send to it.\n",
    "\n",
    "Let's see some simple examples.\n",
    "\n",
    "  -**A function without arguments and without return**"
   ]
  },
  {
   "cell_type": "code",
   "execution_count": 1,
   "metadata": {},
   "outputs": [],
   "source": [
    "def say_hi():\n",
    "    print(\"Hi\")"
   ]
  },
  {
   "cell_type": "code",
   "execution_count": 2,
   "metadata": {},
   "outputs": [
    {
     "name": "stdout",
     "output_type": "stream",
     "text": [
      "Hi\n"
     ]
    }
   ],
   "source": [
    "say_hi()"
   ]
  },
  {
   "cell_type": "markdown",
   "metadata": {},
   "source": [
    "  -**A function with arguments and without return**"
   ]
  },
  {
   "cell_type": "code",
   "execution_count": 3,
   "metadata": {},
   "outputs": [],
   "source": [
    "def say_hi2(name):\n",
    "    print(\"Hi\",name)"
   ]
  },
  {
   "cell_type": "code",
   "execution_count": 4,
   "metadata": {},
   "outputs": [
    {
     "name": "stdout",
     "output_type": "stream",
     "text": [
      "Hi python student\n"
     ]
    }
   ],
   "source": [
    "say_hi2(\"python student\")"
   ]
  },
  {
   "cell_type": "markdown",
   "metadata": {},
   "source": [
    "You can see that if you call this function without giving any argument, it will return an error."
   ]
  },
  {
   "cell_type": "code",
   "execution_count": 5,
   "metadata": {},
   "outputs": [
    {
     "ename": "TypeError",
     "evalue": "say_hi2() missing 1 required positional argument: 'name'",
     "output_type": "error",
     "traceback": [
      "\u001b[0;31m---------------------------------------------------------------------------\u001b[0m",
      "\u001b[0;31mTypeError\u001b[0m                                 Traceback (most recent call last)",
      "\u001b[0;32m<ipython-input-5-1651309af83d>\u001b[0m in \u001b[0;36m<module>\u001b[0;34m\u001b[0m\n\u001b[0;32m----> 1\u001b[0;31m \u001b[0msay_hi2\u001b[0m\u001b[0;34m(\u001b[0m\u001b[0;34m)\u001b[0m\u001b[0;34m\u001b[0m\u001b[0;34m\u001b[0m\u001b[0m\n\u001b[0m",
      "\u001b[0;31mTypeError\u001b[0m: say_hi2() missing 1 required positional argument: 'name'"
     ]
    }
   ],
   "source": [
    "say_hi2()"
   ]
  },
  {
   "cell_type": "markdown",
   "metadata": {},
   "source": [
    "Additionally, you can specify the name of the argument you are assigning. In this way, you can assign them in any order, if not, they will be interpreted in order."
   ]
  },
  {
   "cell_type": "code",
   "execution_count": 6,
   "metadata": {},
   "outputs": [],
   "source": [
    "def say_hi3(name,age):\n",
    "    print(\"Hi\",name,\", you are\",age,\"years old.\")"
   ]
  },
  {
   "cell_type": "code",
   "execution_count": 7,
   "metadata": {},
   "outputs": [
    {
     "name": "stdout",
     "output_type": "stream",
     "text": [
      "Hi python , you are 3 years old.\n"
     ]
    }
   ],
   "source": [
    "say_hi3(\"python\",3)"
   ]
  },
  {
   "cell_type": "code",
   "execution_count": 8,
   "metadata": {},
   "outputs": [
    {
     "name": "stdout",
     "output_type": "stream",
     "text": [
      "Hi python , you are 3 years old.\n"
     ]
    }
   ],
   "source": [
    "say_hi3(age=3,name=\"python\")"
   ]
  },
  {
   "cell_type": "markdown",
   "metadata": {},
   "source": [
    "  -**A function with keyword arguments and without return**"
   ]
  },
  {
   "cell_type": "code",
   "execution_count": 9,
   "metadata": {},
   "outputs": [],
   "source": [
    "def say_hi4(name=\"someone\"):\n",
    "    print(\"Hi\",name)"
   ]
  },
  {
   "cell_type": "code",
   "execution_count": 10,
   "metadata": {},
   "outputs": [
    {
     "name": "stdout",
     "output_type": "stream",
     "text": [
      "Hi someone\n"
     ]
    }
   ],
   "source": [
    "say_hi4()"
   ]
  },
  {
   "cell_type": "code",
   "execution_count": 11,
   "metadata": {},
   "outputs": [
    {
     "name": "stdout",
     "output_type": "stream",
     "text": [
      "Hi Peter\n"
     ]
    }
   ],
   "source": [
    "say_hi4(\"Peter\")"
   ]
  },
  {
   "cell_type": "code",
   "execution_count": 12,
   "metadata": {},
   "outputs": [
    {
     "name": "stdout",
     "output_type": "stream",
     "text": [
      "Hi Peter\n"
     ]
    }
   ],
   "source": [
    "say_hi4(name=\"Peter\")"
   ]
  },
  {
   "cell_type": "markdown",
   "metadata": {},
   "source": [
    "  -**A function with return**"
   ]
  },
  {
   "cell_type": "code",
   "execution_count": 13,
   "metadata": {},
   "outputs": [],
   "source": [
    "def add1(x):\n",
    "    y = x+1\n",
    "    return y"
   ]
  },
  {
   "cell_type": "code",
   "execution_count": 14,
   "metadata": {},
   "outputs": [
    {
     "data": {
      "text/plain": [
       "4"
      ]
     },
     "execution_count": 14,
     "metadata": {},
     "output_type": "execute_result"
    }
   ],
   "source": [
    "add1(3)"
   ]
  },
  {
   "cell_type": "markdown",
   "metadata": {},
   "source": [
    "  -**A function with several returns**"
   ]
  },
  {
   "cell_type": "code",
   "execution_count": 15,
   "metadata": {},
   "outputs": [],
   "source": [
    "def add1substrac1(x):\n",
    "    y = x+1\n",
    "    z = x-1\n",
    "    return y,z"
   ]
  },
  {
   "cell_type": "code",
   "execution_count": 16,
   "metadata": {},
   "outputs": [
    {
     "data": {
      "text/plain": [
       "(3, 1)"
      ]
     },
     "execution_count": 16,
     "metadata": {},
     "output_type": "execute_result"
    }
   ],
   "source": [
    "add1substrac1(2)"
   ]
  },
  {
   "cell_type": "markdown",
   "metadata": {},
   "source": [
    "<a id='scope'></a>\n",
    "# Scope of variables\n",
    "\n",
    "Variables that are declared inside a function cannot be seen outside. Consider this example this case:"
   ]
  },
  {
   "cell_type": "code",
   "execution_count": 17,
   "metadata": {},
   "outputs": [],
   "source": [
    "def declare_x():\n",
    "    x = 4"
   ]
  },
  {
   "cell_type": "code",
   "execution_count": 18,
   "metadata": {},
   "outputs": [
    {
     "data": {
      "text/plain": [
       "0"
      ]
     },
     "execution_count": 18,
     "metadata": {},
     "output_type": "execute_result"
    }
   ],
   "source": [
    "x = 0\n",
    "\n",
    "declare_x()\n",
    "\n",
    "x"
   ]
  },
  {
   "cell_type": "markdown",
   "metadata": {},
   "source": [
    "As you can see, even if we have declared a variable called x inside the function, it doesn't mean that we are modifying the variable outside the scope of this function. The other way around is not true.\n",
    "\n",
    "Consider the following case:"
   ]
  },
  {
   "cell_type": "code",
   "execution_count": 19,
   "metadata": {},
   "outputs": [],
   "source": [
    "def print_x():\n",
    "    print(x)"
   ]
  },
  {
   "cell_type": "code",
   "execution_count": 20,
   "metadata": {},
   "outputs": [
    {
     "name": "stdout",
     "output_type": "stream",
     "text": [
      "0\n"
     ]
    }
   ],
   "source": [
    "x = 0\n",
    "\n",
    "print_x()"
   ]
  },
  {
   "cell_type": "markdown",
   "metadata": {},
   "source": [
    "Even if x was not declared inside the function `print_x()`, we have been able to read it! This is because, a function, in case of not finding a variable declared, will search for a declaration outside the scope. **You have to be extremely careful with this as not declaring all the variables used inside a function is not a good practice.** Consider for example this case:"
   ]
  },
  {
   "cell_type": "code",
   "execution_count": 21,
   "metadata": {},
   "outputs": [],
   "source": [
    "def sum_1():\n",
    "    x[1] += 1"
   ]
  },
  {
   "cell_type": "code",
   "execution_count": 22,
   "metadata": {},
   "outputs": [
    {
     "data": {
      "text/plain": [
       "[1, 3, 3]"
      ]
     },
     "execution_count": 22,
     "metadata": {},
     "output_type": "execute_result"
    }
   ],
   "source": [
    "x = [1,2,3]\n",
    "\n",
    "sum_1()\n",
    "\n",
    "x"
   ]
  },
  {
   "cell_type": "markdown",
   "metadata": {},
   "source": [
    "The function has changed the list outside the function. Maybe this is not what we wanted and can lead to unexpected errors! All the variables that we need from the outside inside our function, we should ask them as arguments or declared arguments."
   ]
  },
  {
   "cell_type": "markdown",
   "metadata": {},
   "source": [
    "<a id='packages'></a>\n",
    "# Packages\n",
    "\n",
    "One of the main motivations for using Python is that there is much code available around there that we can use for our purposes. This code is distributed in packages. In the following, we will see how to use this code in our code.\n",
    "\n",
    "<a id='installing'></a>\n",
    "## Installing packages\n",
    "\n",
    "We installed packages during the Setting up of this tutorial (see README file in the main folder). We can install a package by opening a terminal and using `pip`.\n",
    "\n",
    "```\n",
    "$ pip install name_of_package\n",
    "```\n",
    "\n",
    "What pip will do is search in the [PiPy](https://pypi.org/), the official database where python most of the packages are stored and, if finds a package with this name, will try to install it on your computer.\n",
    "\n",
    "<a id='importing'></a>\n",
    "## Importing packages\n",
    "\n",
    "Once we have the packages installed, we can use them by importing them. There are several ways to import code from a package:\n",
    "\n",
    "```python\n",
    "import name_of_package #Imports full package. Anything in the package is used writing name_of_package.name_of_function\n",
    "import name_of_package as abreviation #Imports full package. Anything in the package is used writing abreviation.name_of_function\n",
    "from name_of_package import things_you_want_to_import \n",
    "```\n",
    "\n",
    "Let's see how to use them in an example. We are going to import the package `numpy` which contains mathematical functions."
   ]
  },
  {
   "cell_type": "code",
   "execution_count": 23,
   "metadata": {},
   "outputs": [],
   "source": [
    "import numpy"
   ]
  },
  {
   "cell_type": "markdown",
   "metadata": {},
   "source": [
    "In numpuy there is the function cosinus. Now we can use it as,"
   ]
  },
  {
   "cell_type": "code",
   "execution_count": 24,
   "metadata": {},
   "outputs": [
    {
     "data": {
      "text/plain": [
       "-0.9899924966004454"
      ]
     },
     "execution_count": 24,
     "metadata": {},
     "output_type": "execute_result"
    }
   ],
   "source": [
    "numpy.cos(3)"
   ]
  },
  {
   "cell_type": "markdown",
   "metadata": {},
   "source": [
    "This is very verbose if all the time we have to write `numpy.something`. A way more compact is to give a nickname to the package. Let's do this."
   ]
  },
  {
   "cell_type": "code",
   "execution_count": 25,
   "metadata": {},
   "outputs": [],
   "source": [
    "import numpy as np"
   ]
  },
  {
   "cell_type": "code",
   "execution_count": 26,
   "metadata": {},
   "outputs": [
    {
     "data": {
      "text/plain": [
       "-0.9899924966004454"
      ]
     },
     "execution_count": 26,
     "metadata": {},
     "output_type": "execute_result"
    }
   ],
   "source": [
    "np.cos(3)"
   ]
  },
  {
   "cell_type": "markdown",
   "metadata": {},
   "source": [
    "A lot better! \n",
    "\n",
    "In this way, we have uploaded everything that the package python has in it. However, we may be interested sometimes in using just a single or a few functions. We can upload single functions using the `from import` form."
   ]
  },
  {
   "cell_type": "code",
   "execution_count": 27,
   "metadata": {},
   "outputs": [],
   "source": [
    "from numpy import cos"
   ]
  },
  {
   "cell_type": "code",
   "execution_count": 28,
   "metadata": {},
   "outputs": [
    {
     "data": {
      "text/plain": [
       "-0.9899924966004454"
      ]
     },
     "execution_count": 28,
     "metadata": {},
     "output_type": "execute_result"
    }
   ],
   "source": [
    "cos(3)"
   ]
  },
  {
   "cell_type": "markdown",
   "metadata": {},
   "source": [
    "<a id='code'></a>\n",
    "## Importing your code\n",
    "\n",
    "When you start working a lot with your programs, it is possible that you start generating the code that you would like to reuse between analysis, and work. At this time you can consider two things:\n",
    "\n",
    " - Have a python file where your store your custom functions.\n",
    " - Make your package and distribute it.\n",
    "\n",
    "The second option is something that is outside the scope of a beginner and even for people that is not dedicated to developing code. However, we can go for a more basic thing which is keeping code in a file apart from our analysis notebook and we can always take it to other analysis.\n",
    "\n",
    "Have a look at the python file `my_custom_functions.py` inside this subfolder. Inside it you will see the following function:\n",
    "\n",
    "```python\n",
    "#Inside my_custom_functions.py\n",
    "\n",
    "def my_custom_hi():\n",
    "    \"\"\"\n",
    "    Function that says hi!\n",
    "    \"\"\"\n",
    "    print(\"Hi from my_custom_functions_file!\")\n",
    "```\n",
    "\n",
    "We would like to use this function here! We by using `from import` style without including the `.py` ending."
   ]
  },
  {
   "cell_type": "code",
   "execution_count": 29,
   "metadata": {},
   "outputs": [],
   "source": [
    "from my_custom_functions import * #The asterisc means to import all that is inside the file"
   ]
  },
  {
   "cell_type": "code",
   "execution_count": 30,
   "metadata": {},
   "outputs": [
    {
     "name": "stdout",
     "output_type": "stream",
     "text": [
      "Hi from my_custom_functions.py file!\n"
     ]
    }
   ],
   "source": [
    "my_custom_hi()"
   ]
  },
  {
   "cell_type": "markdown",
   "metadata": {},
   "source": [
    "Now you can have an external file where to keep the custom functions that you can use in all your analysis without having to copy-paste in other places!\n",
    "\n",
    "A couple of final remarks:\n",
    "\n",
    " - If you have already imported a custom package and then you modify the content in it, you will have to restart the kernel (the jupyter or the interactive shell) and import it before you can see the messages.\n",
    " - The commented lines within triplet commas just below the `def` are comments that appear when you call the `help` function. For sanity, you should comment on your functions. Maybe in the moment, you write a function is clear in your head how it works, but who knows in a couple of weeks..."
   ]
  },
  {
   "cell_type": "code",
   "execution_count": 31,
   "metadata": {},
   "outputs": [
    {
     "name": "stdout",
     "output_type": "stream",
     "text": [
      "Help on function my_custom_hi in module my_custom_functions:\n",
      "\n",
      "my_custom_hi()\n",
      "    Function that says hi!\n",
      "\n"
     ]
    }
   ],
   "source": [
    "help(my_custom_hi)"
   ]
  },
  {
   "cell_type": "code",
   "execution_count": null,
   "metadata": {},
   "outputs": [],
   "source": []
  }
 ],
 "metadata": {
  "kernelspec": {
   "display_name": "Python 3",
   "language": "python",
   "name": "python3"
  },
  "language_info": {
   "codemirror_mode": {
    "name": "ipython",
    "version": 3
   },
   "file_extension": ".py",
   "mimetype": "text/x-python",
   "name": "python",
   "nbconvert_exporter": "python",
   "pygments_lexer": "ipython3",
   "version": "3.9.13"
  },
  "vscode": {
   "interpreter": {
    "hash": "e7370f93d1d0cde622a1f8e1c04877d8463912d04d973331ad4851f04de6915a"
   }
  }
 },
 "nbformat": 4,
 "nbformat_minor": 4
}
