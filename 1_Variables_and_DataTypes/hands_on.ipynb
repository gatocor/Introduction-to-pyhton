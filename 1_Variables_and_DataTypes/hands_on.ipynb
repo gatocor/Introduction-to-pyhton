{
 "cells": [
  {
   "cell_type": "markdown",
   "metadata": {},
   "source": [
    "# Creating a small database\n",
    "\n",
    "We have a set of samples. Each sample has the following information.\n",
    " - Date of its extraction.\n",
    " - A set of different lengths of numbers indicating repetitions of some measure\n",
    " - The temperature of the room when the sample was extracted\n",
    "\n",
    "Sample 1: \n",
    " - Date: 10/03/2002\n",
    " - Measures: 12,14,3,16\n",
    " - 28ºC\n",
    "\n",
    "Sample 2: \n",
    " - Date: 12/03/2002\n",
    " - Measures: 15,3\n",
    " - 26ºC\n",
    "\n",
    "## Exercises\n",
    " Create the appropriate Data Types for containing all this information.\n",
    " - Check if the temperature of Sample 2 is below 27.\n",
    " - Check how many measures are in Sample 1.\n",
    " - Add another sample with any values that you want."
   ]
  },
  {
   "cell_type": "markdown",
   "metadata": {},
   "source": []
  }
 ],
 "metadata": {
  "kernelspec": {
   "display_name": "Python 3.9.13 64-bit",
   "language": "python",
   "name": "python3"
  },
  "language_info": {
   "codemirror_mode": {
    "name": "ipython",
    "version": 3
   },
   "file_extension": ".py",
   "mimetype": "text/x-python",
   "name": "python",
   "nbconvert_exporter": "python",
   "pygments_lexer": "ipython3",
   "version": "3.9.13"
  },
  "orig_nbformat": 4,
  "vscode": {
   "interpreter": {
    "hash": "e7370f93d1d0cde622a1f8e1c04877d8463912d04d973331ad4851f04de6915a"
   }
  }
 },
 "nbformat": 4,
 "nbformat_minor": 2
}
