{
 "cells": [
  {
   "cell_type": "markdown",
   "metadata": {},
   "source": [
    "# Creating a small database\n",
    "\n",
    "We have a set of samples. Each sample has the following information.\n",
    " - Date of its extraction.\n",
    " - A set of different lengths of numbers indicating repetitions of some measure\n",
    " - The temperature of the room when the sample was extracted\n",
    "\n",
    "Sample 1: \n",
    " - Date: 10/03/2002\n",
    " - Measures: 12,14,3,16\n",
    " - 28ºC\n",
    "\n",
    "Sample 2: \n",
    " - Date: 12/03/2002\n",
    " - Measures: 15,3\n",
    " - 26ºC\n",
    "\n",
    "## Exercises\n",
    "Create the appropriate Data Types for containing all this information.\n",
    " - Check if the temperature of Sample 2 is below 27.\n",
    " - Check how many measures are in Sample 1.\n",
    " - Add another sample with any values that you want."
   ]
  },
  {
   "cell_type": "markdown",
   "metadata": {},
   "source": [
    "# Solution\n",
    "\n",
    "There are several ways of solving this problem.\n",
    "\n",
    "We need a container that will contain samples. The container can be a list or a dictionary. Here, we will use a list.\n",
    "\n",
    "Then, each sample has a date, measurements and temperature. We will use a dictionary for each sample containing the different measures. We will use for data types:\n",
    "\n",
    " - Date: String\n",
    " - Measures: List with numbers\n",
    " - Temperature: Number"
   ]
  },
  {
   "cell_type": "code",
   "execution_count": 1,
   "metadata": {},
   "outputs": [],
   "source": [
    "samples = [\n",
    "    {\"Date\":\"20/03/2002\",\n",
    "    \"Measures\":[12,14,2,16],\n",
    "    \"Temperature\":28},\n",
    "    {\"Date\":\"12/03/2002\",\n",
    "    \"Measures\":[15,3],\n",
    "    \"Temperature\":26}\n",
    "]"
   ]
  },
  {
   "cell_type": "markdown",
   "metadata": {},
   "source": [
    "Check if the temperature of Sample 2 is below 27.\n",
    "\n",
    "We need to access sample 1 and in sample 1, we need to access the temperature parameter. Then we need to check if it is below 27 with an operator."
   ]
  },
  {
   "cell_type": "code",
   "execution_count": null,
   "metadata": {},
   "outputs": [],
   "source": [
    "samples[1][\"Temperature\"] < 27"
   ]
  },
  {
   "cell_type": "markdown",
   "metadata": {},
   "source": [
    "Check how many measures are in Sample 1."
   ]
  },
  {
   "cell_type": "code",
   "execution_count": 3,
   "metadata": {},
   "outputs": [
    {
     "data": {
      "text/plain": [
       "4"
      ]
     },
     "execution_count": 3,
     "metadata": {},
     "output_type": "execute_result"
    }
   ],
   "source": [
    "len(samples[0][\"Measures\"])"
   ]
  },
  {
   "cell_type": "markdown",
   "metadata": {},
   "source": [
    "Add another sample\n",
    "\n",
    "We use the known method `list.append` to add a new sample."
   ]
  },
  {
   "cell_type": "code",
   "execution_count": 4,
   "metadata": {},
   "outputs": [],
   "source": [
    "samples.append({\"Date\":\"14/05/2032\",\n",
    "    \"Measures\":[3,4,10,29,46],\n",
    "    \"Temperature\":27}\n",
    ")"
   ]
  },
  {
   "cell_type": "code",
   "execution_count": 5,
   "metadata": {},
   "outputs": [
    {
     "data": {
      "text/plain": [
       "[{'Date': '20/03/2002', 'Measures': [12, 14, 2, 16], 'Temperature': 28},\n",
       " {'Date': '12/03/2002', 'Measures': [15, 3], 'Temperature': 26},\n",
       " {'Date': '14/05/2032', 'Measures': [3, 4, 10, 29, 46], 'Temperature': 27}]"
      ]
     },
     "execution_count": 5,
     "metadata": {},
     "output_type": "execute_result"
    }
   ],
   "source": [
    "samples"
   ]
  },
  {
   "cell_type": "code",
   "execution_count": null,
   "metadata": {},
   "outputs": [],
   "source": []
  }
 ],
 "metadata": {
  "kernelspec": {
   "display_name": "Python 3.9.13 64-bit",
   "language": "python",
   "name": "python3"
  },
  "language_info": {
   "codemirror_mode": {
    "name": "ipython",
    "version": 3
   },
   "file_extension": ".py",
   "mimetype": "text/x-python",
   "name": "python",
   "nbconvert_exporter": "python",
   "pygments_lexer": "ipython3",
   "version": "3.9.13"
  },
  "orig_nbformat": 4,
  "vscode": {
   "interpreter": {
    "hash": "e7370f93d1d0cde622a1f8e1c04877d8463912d04d973331ad4851f04de6915a"
   }
  }
 },
 "nbformat": 4,
 "nbformat_minor": 2
}
