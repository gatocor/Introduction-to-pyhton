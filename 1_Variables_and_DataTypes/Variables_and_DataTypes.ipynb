{
 "cells": [
  {
   "cell_type": "markdown",
   "metadata": {},
   "source": [
    "# Index \n",
    " 1. [Variables](#variables)\n",
    " 2. [Data Types](#data-types)\n",
    " 3. [A small introduction to classes](#classes)\n",
    "    1. [Operators](#operators)\n",
    "    2. [Methods](#methods)\n",
    " 4. [Looking for help](#help)\n",
    " 5. [Summary](#summary)"
   ]
  },
  {
   "cell_type": "markdown",
   "metadata": {},
   "source": [
    "<a id='variables'></a>\n",
    "# Variables\n",
    "\n",
    "\n",
    "The most basic piece of code in any programming language is variables. Variables assign a piece of memory that will be accessible within the code. This information can be numbers, text, an image...\n",
    "\n",
    "\n",
    "The basic way of declaring a variable is with the equal operator `=`, where we assign a data type to a symbol that we can call again in the rest of the program. "
   ]
  },
  {
   "cell_type": "code",
   "execution_count": 1,
   "metadata": {},
   "outputs": [],
   "source": [
    "a = 1\n",
    "b = 1.2\n",
    "c = \"Hi\"\n",
    "d = [1,2,3,4]\n",
    "e = {\"age\":34,\"heigt\":50}"
   ]
  },
  {
   "cell_type": "markdown",
   "metadata": {},
   "source": [
    "We have assigned an Integer, a Float, a String, a List and a Dictionary data types to the different variables. We will see Data Types in the next section. The information contained in the variables now can be accessed anytime.\n",
    "\n",
    "Let's invocate a variable."
   ]
  },
  {
   "cell_type": "code",
   "execution_count": 2,
   "metadata": {},
   "outputs": [
    {
     "data": {
      "text/plain": [
       "'Hi'"
      ]
     },
     "execution_count": 2,
     "metadata": {},
     "output_type": "execute_result"
    }
   ],
   "source": [
    "c"
   ]
  },
  {
   "cell_type": "markdown",
   "metadata": {},
   "source": [
    "Alternatively, we can use the function `print()` to show the value of the variable."
   ]
  },
  {
   "cell_type": "code",
   "execution_count": 3,
   "metadata": {},
   "outputs": [
    {
     "name": "stdout",
     "output_type": "stream",
     "text": [
      "1\n",
      "1.2\n"
     ]
    }
   ],
   "source": [
    "print(a)\n",
    "print(b)"
   ]
  },
  {
   "cell_type": "markdown",
   "metadata": {},
   "source": [
    "<a id='data-types'></a>\n",
    "# Data Types\n",
    "\n",
    "Data Types inform us of the kind of information a piece of memory contains and how it can be used in our code.\n",
    "\n",
    "We can check what kind of type a variable contains using the function `type()`."
   ]
  },
  {
   "cell_type": "code",
   "execution_count": 4,
   "metadata": {},
   "outputs": [
    {
     "name": "stdout",
     "output_type": "stream",
     "text": [
      "<class 'int'>\n",
      "<class 'float'>\n",
      "<class 'str'>\n",
      "<class 'list'>\n",
      "<class 'dict'>\n"
     ]
    }
   ],
   "source": [
    "print(type(a))\n",
    "print(type(b))\n",
    "print(type(c))\n",
    "print(type(d))\n",
    "print(type(e))"
   ]
  },
  {
   "cell_type": "markdown",
   "metadata": {},
   "source": [
    "In the following, we will go over the basic python types that are the base for more complex objects:\n",
    "\n",
    "Basic Data Types\n",
    "\n",
    " - [Boolean](#Boolean)\n",
    " - [Integers and Floats](#integers-and-floats)\n",
    " - [Strings](#Strings)\n",
    "\n",
    "Container Data Types\n",
    "\n",
    " - [Lists](#Lists)\n",
    " - [Dictionaries](#Dictionaries)"
   ]
  },
  {
   "cell_type": "markdown",
   "metadata": {},
   "source": [
    "<a id='boolean'></a>\n",
    "## Boolean\n",
    "\n",
    "Boolean types are just `True` or `False`."
   ]
  },
  {
   "cell_type": "code",
   "execution_count": 5,
   "metadata": {},
   "outputs": [],
   "source": [
    "a = True\n",
    "b = False"
   ]
  },
  {
   "cell_type": "markdown",
   "metadata": {},
   "source": [
    "<a id='integers-and-floats'></a>\n",
    "## Integers and Floats\n",
    "\n",
    "Among the most basic types, there are\n",
    "\n",
    " - Integer\n",
    " - Float\n",
    "\n",
    "Let's declare one of each type,"
   ]
  },
  {
   "cell_type": "code",
   "execution_count": 6,
   "metadata": {},
   "outputs": [],
   "source": [
    "a = 2\n",
    "b = 1.2"
   ]
  },
  {
   "cell_type": "markdown",
   "metadata": {},
   "source": [
    "### Operating with numbers\n",
    "\n",
    "We can perform different algebraic operations over these basic types."
   ]
  },
  {
   "cell_type": "code",
   "execution_count": 7,
   "metadata": {},
   "outputs": [
    {
     "name": "stdout",
     "output_type": "stream",
     "text": [
      "0\n",
      "4\n",
      "1.0\n",
      "4\n",
      "8\n",
      "False\n",
      "False\n",
      "True\n",
      "True\n"
     ]
    }
   ],
   "source": [
    "print(a-2)\n",
    "print(a+2)\n",
    "print(a/2)\n",
    "print(a*2)\n",
    "print(a**3) # Power to\n",
    "print(a<0) # Less than\n",
    "print(a<=0) # Less or equal than\n",
    "print(a>0) # Greater than\n",
    "print(a>=0) # Greater of equal than"
   ]
  },
  {
   "cell_type": "markdown",
   "metadata": {},
   "source": [
    "### Operate and assign basic types\n",
    "\n",
    "A very common thing to do is to operate and assign after the operation to the same variable. There are operators that have been developed to perform that rule directly. Look at the following code."
   ]
  },
  {
   "cell_type": "code",
   "execution_count": 8,
   "metadata": {},
   "outputs": [
    {
     "data": {
      "text/plain": [
       "2"
      ]
     },
     "execution_count": 8,
     "metadata": {},
     "output_type": "execute_result"
    }
   ],
   "source": [
    "a = 1\n",
    "a = a + 1\n",
    "a"
   ]
  },
  {
   "cell_type": "code",
   "execution_count": 9,
   "metadata": {},
   "outputs": [
    {
     "data": {
      "text/plain": [
       "2"
      ]
     },
     "execution_count": 9,
     "metadata": {},
     "output_type": "execute_result"
    }
   ],
   "source": [
    "a = 1\n",
    "a += 1\n",
    "a"
   ]
  },
  {
   "cell_type": "markdown",
   "metadata": {},
   "source": [
    "<a id='strings'></a>\n",
    "## Strings\n",
    "\n",
    "Strings contain sets of characters."
   ]
  },
  {
   "cell_type": "code",
   "execution_count": 10,
   "metadata": {},
   "outputs": [],
   "source": [
    "a = \"String\""
   ]
  },
  {
   "cell_type": "markdown",
   "metadata": {},
   "source": [
    "They can be concatenated by adding them."
   ]
  },
  {
   "cell_type": "code",
   "execution_count": 11,
   "metadata": {},
   "outputs": [
    {
     "data": {
      "text/plain": [
       "'Strings can be added'"
      ]
     },
     "execution_count": 11,
     "metadata": {},
     "output_type": "execute_result"
    }
   ],
   "source": [
    "a += \"s can be added\"\n",
    "a"
   ]
  },
  {
   "cell_type": "markdown",
   "metadata": {},
   "source": [
    "We can check if there are other strings in them."
   ]
  },
  {
   "cell_type": "code",
   "execution_count": 12,
   "metadata": {},
   "outputs": [
    {
     "data": {
      "text/plain": [
       "True"
      ]
     },
     "execution_count": 12,
     "metadata": {},
     "output_type": "execute_result"
    }
   ],
   "source": [
    "\"can\" in a"
   ]
  },
  {
   "cell_type": "markdown",
   "metadata": {},
   "source": [
    "<a id='lists'></a>\n",
    "## Lists\n",
    "\n",
    "A coding language will be unuseful we had to keep a variable name for each number. most of the time we want to store big sets of data of the same feature. For that, we use lists. These are collections of data that can be used sequentially.\n",
    "\n",
    "We declared them by using brackets and separating each object by commas."
   ]
  },
  {
   "cell_type": "code",
   "execution_count": 13,
   "metadata": {},
   "outputs": [],
   "source": [
    "a = [1,2,3,4]"
   ]
  },
  {
   "cell_type": "markdown",
   "metadata": {},
   "source": [
    "To take into account the elements of the array we use the brackets operator."
   ]
  },
  {
   "cell_type": "code",
   "execution_count": 14,
   "metadata": {},
   "outputs": [
    {
     "data": {
      "text/plain": [
       "2"
      ]
     },
     "execution_count": 14,
     "metadata": {},
     "output_type": "execute_result"
    }
   ],
   "source": [
    "a[1]"
   ]
  },
  {
   "cell_type": "markdown",
   "metadata": {},
   "source": [
    "We can access the elements from the end by writing negative positions. Is we would like to get the last number, we would write."
   ]
  },
  {
   "cell_type": "code",
   "execution_count": 15,
   "metadata": {},
   "outputs": [
    {
     "data": {
      "text/plain": [
       "4"
      ]
     },
     "execution_count": 15,
     "metadata": {},
     "output_type": "execute_result"
    }
   ],
   "source": [
    "a[-1]"
   ]
  },
  {
   "cell_type": "markdown",
   "metadata": {},
   "source": [
    "Notice that when calling `a[1]` we obtained the second element of the list! This is because **list enumeration **in arrays **starts** from 0**!**\n",
    "\n",
    "For obtaining the first element we have to write the following:"
   ]
  },
  {
   "cell_type": "code",
   "execution_count": 16,
   "metadata": {},
   "outputs": [
    {
     "data": {
      "text/plain": [
       "1"
      ]
     },
     "execution_count": 16,
     "metadata": {},
     "output_type": "execute_result"
    }
   ],
   "source": [
    "a[0]"
   ]
  },
  {
   "cell_type": "markdown",
   "metadata": {},
   "source": [
    "We can obtain several elements at the same time by slicing. Slices can be defined in the following ways:\n",
    " - `:final_not_included` will return from the first number\n",
    " - `initial:` will return until the last number\n",
    " - `initial:final_not_included`\n",
    " - `:` return all\n",
    "\n",
    "Think about the following behaviors."
   ]
  },
  {
   "cell_type": "code",
   "execution_count": 17,
   "metadata": {},
   "outputs": [
    {
     "name": "stdout",
     "output_type": "stream",
     "text": [
      "[1, 2, 3]\n",
      "[2, 3, 4]\n",
      "[2, 3]\n",
      "[1, 2, 3, 4]\n"
     ]
    }
   ],
   "source": [
    "print(a[:3])\n",
    "print(a[1:])\n",
    "print(a[1:3])\n",
    "print(a[:])"
   ]
  },
  {
   "cell_type": "markdown",
   "metadata": {},
   "source": [
    "The list doesn't need to contain all the elements of the same type."
   ]
  },
  {
   "cell_type": "code",
   "execution_count": 18,
   "metadata": {},
   "outputs": [],
   "source": [
    "a = [1 ,\"string\", 1.2, False]"
   ]
  },
  {
   "cell_type": "markdown",
   "metadata": {},
   "source": [
    "We can operate with the elements of a list in the usual way as with the types of its elements."
   ]
  },
  {
   "cell_type": "code",
   "execution_count": 19,
   "metadata": {},
   "outputs": [
    {
     "data": {
      "text/plain": [
       "[4, 'string', 1.2, False]"
      ]
     },
     "execution_count": 19,
     "metadata": {},
     "output_type": "execute_result"
    }
   ],
   "source": [
    "a[0] += 3\n",
    "a"
   ]
  },
  {
   "cell_type": "markdown",
   "metadata": {},
   "source": [
    "We can also concatenate lists.\n"
   ]
  },
  {
   "cell_type": "code",
   "execution_count": 20,
   "metadata": {},
   "outputs": [
    {
     "data": {
      "text/plain": [
       "[1, 2, 3, 4]"
      ]
     },
     "execution_count": 20,
     "metadata": {},
     "output_type": "execute_result"
    }
   ],
   "source": [
    "a = []\n",
    "a += [1,2,3,4]\n",
    "a"
   ]
  },
  {
   "cell_type": "markdown",
   "metadata": {},
   "source": [
    "Or add simple elements."
   ]
  },
  {
   "cell_type": "code",
   "execution_count": 21,
   "metadata": {},
   "outputs": [
    {
     "data": {
      "text/plain": [
       "[1, 2, 3, 4, 5]"
      ]
     },
     "execution_count": 21,
     "metadata": {},
     "output_type": "execute_result"
    }
   ],
   "source": [
    "a.append(5)\n",
    "a"
   ]
  },
  {
   "cell_type": "markdown",
   "metadata": {},
   "source": [
    "<a id='dictionaries'></a>\n",
    "## Dictionaries\n",
    "\n",
    "Sometimes it is interesting to store complex data is to store the information with a key that is not a position, but with a name that is human readable. For that we use Dictionaries. These are declared in the form of `{key:feature, key:feature...}`."
   ]
  },
  {
   "cell_type": "code",
   "execution_count": 22,
   "metadata": {},
   "outputs": [],
   "source": [
    "a = {\"Height\":12,\"Length\":1}"
   ]
  },
  {
   "cell_type": "markdown",
   "metadata": {},
   "source": [
    "the keys can be obtained by calling the keys property."
   ]
  },
  {
   "cell_type": "code",
   "execution_count": 23,
   "metadata": {},
   "outputs": [
    {
     "data": {
      "text/plain": [
       "dict_keys(['Height', 'Length'])"
      ]
     },
     "execution_count": 23,
     "metadata": {},
     "output_type": "execute_result"
    }
   ],
   "source": [
    "a.keys()"
   ]
  },
  {
   "cell_type": "markdown",
   "metadata": {},
   "source": [
    "and each component can be accessed using the corresponding key."
   ]
  },
  {
   "cell_type": "code",
   "execution_count": 24,
   "metadata": {},
   "outputs": [
    {
     "data": {
      "text/plain": [
       "12"
      ]
     },
     "execution_count": 24,
     "metadata": {},
     "output_type": "execute_result"
    }
   ],
   "source": [
    "a[\"Height\"]"
   ]
  },
  {
   "cell_type": "markdown",
   "metadata": {},
   "source": [
    "<a id='classes'></a>\n",
    "# A small introduction to classes\n",
    "All that we have mentioned above as Data Types are types of classes, also known as objects. Classes are constituted by:\n",
    "\n",
    " - **Variables**: That is the information contained in this class.\n",
    " - **Methods**: Functions (rules) that define how to manipulate that data.\n",
    "\n",
    "As a very simple example, when we define in a variable an integer, what we are defining is a class integer. The variable is information in the memory stored (the integer) and the methods are the rules the computer knows to manipulate the integer (how to add it, subtract it, multiply it...).\n",
    "\n",
    "Let's see this with the example of an integer."
   ]
  },
  {
   "cell_type": "code",
   "execution_count": 25,
   "metadata": {},
   "outputs": [
    {
     "name": "stdout",
     "output_type": "stream",
     "text": [
      "<class 'int'>\n"
     ]
    }
   ],
   "source": [
    "a = 3\n",
    "print(type(a))"
   ]
  },
  {
   "cell_type": "markdown",
   "metadata": {},
   "source": [
    "There are two forms of interacting with classes:\n",
    "\n",
    "<a id='operators'></a>\n",
    "## Operators\n",
    "\n",
    "Operators usually correspond to the most basic rules performed on the basic classes and correspond to arithmetic, comparison, identity operations. We have seen them above when performing sums (`+`), sum and addition (`+=`), or even checking if a number was in a list (`in`).\n",
    "\n",
    "A very extensive list of operators can be found in the Cheatsheet.pdf that you will find along this tutorial. You do not have to learn them by memory, you will learn as you use them and you will see that they are very intuitive to work with most part of the time."
   ]
  },
  {
   "cell_type": "code",
   "execution_count": 26,
   "metadata": {},
   "outputs": [
    {
     "data": {
      "text/plain": [
       "6"
      ]
     },
     "execution_count": 26,
     "metadata": {},
     "output_type": "execute_result"
    }
   ],
   "source": [
    "a = 3\n",
    "a + 3 #This uses an operator"
   ]
  },
  {
   "cell_type": "markdown",
   "metadata": {},
   "source": [
    "<a id='methods'></a>\n",
    "## Methods\n",
    "\n",
    "When dealing with more complex data types, certain rules do not have an operator. Recall for example when adding an element to a list that we called `list.append(add_variable)` or when we wanted to get the keys of the dictionary`.keys`()`. These are examples of methods, and rules that are defined for a specific class.\n",
    "\n",
    "They are used calling with the structure `variable.method(arguments)`. The arguments will depend on the method. \n",
    "\n",
    "As with operators, it is not necessary at all that you learn all the methods for all the classes (I think it will be even impossible). You will learn the ones you use while programing. \n"
   ]
  },
  {
   "cell_type": "code",
   "execution_count": 27,
   "metadata": {},
   "outputs": [
    {
     "data": {
      "text/plain": [
       "[1, 2, 3, 4]"
      ]
     },
     "execution_count": 27,
     "metadata": {},
     "output_type": "execute_result"
    }
   ],
   "source": [
    "a = [1,2,3]\n",
    "a.append(4)\n",
    "a"
   ]
  },
  {
   "cell_type": "markdown",
   "metadata": {},
   "source": [
    "<a id='help'></a>\n",
    "# Looking for help\n",
    "\n",
    "Most of the programming is learning by doing. The more you code, the more easily you will deal with problems as you find them. \n",
    "\n",
    "There are a couple of things that will help you:\n",
    "\n",
    "The function `help` will print you a description of the use of the chasses, methods, and functions that you call if documented."
   ]
  },
  {
   "cell_type": "code",
   "execution_count": 28,
   "metadata": {},
   "outputs": [
    {
     "name": "stdout",
     "output_type": "stream",
     "text": [
      "Help on built-in function append:\n",
      "\n",
      "append(object, /) method of builtins.list instance\n",
      "    Append object to the end of the list.\n",
      "\n"
     ]
    }
   ],
   "source": [
    "a = []\n",
    "help(a.append)"
   ]
  },
  {
   "cell_type": "markdown",
   "metadata": {},
   "source": [
    "Second, since Python is a great community, you will find almost all the doubts you can have while coding solved. Use Google when need it!\n",
    "\n",
    "This is the first thing that appeared when searching: python add to list\n",
    "\n",
    "[https://www.w3schools.com/python/python_lists_add.asp](https://www.w3schools.com/python/python_lists_add.asp)"
   ]
  },
  {
   "cell_type": "markdown",
   "metadata": {},
   "source": [
    "<a id='summary'></a>\n",
    "# Summary\n",
    "\n",
    "By the end of this script, you should have understood the concepts of:\n",
    "\n",
    " - Variables: A symbol that is assigned to a piece of memory so it can be used in the rest of the code. \n",
    " - Data types: The different information that can be used in a program. We saw Boolean, Integers, Floats, Strings, Lists and Dictionaries.\n",
    " - Classes: The abstract concept of data types that consists of the variables (information) and the rules of how to work with them (class).\n",
    " - Operators: One of the ways of operating with data types consists of the most basic operations.\n",
    " - Methods: Other rules to work with different data types.\n",
    " - Look for help when stuck!"
   ]
  },
  {
   "cell_type": "markdown",
   "metadata": {},
   "source": []
  }
 ],
 "metadata": {
  "kernelspec": {
   "display_name": "Python 3",
   "language": "python",
   "name": "python3"
  },
  "language_info": {
   "codemirror_mode": {
    "name": "ipython",
    "version": 3
   },
   "file_extension": ".py",
   "mimetype": "text/x-python",
   "name": "python",
   "nbconvert_exporter": "python",
   "pygments_lexer": "ipython3",
   "version": "3.9.13"
  },
  "vscode": {
   "interpreter": {
    "hash": "e7370f93d1d0cde622a1f8e1c04877d8463912d04d973331ad4851f04de6915a"
   }
  }
 },
 "nbformat": 4,
 "nbformat_minor": 4
}
