{
 "cells": [
  {
   "cell_type": "markdown",
   "metadata": {},
   "source": [
    "# Filtering our database\n",
    "\n",
    "Consider the database we had before. Imagine that we would like to separate the samples by temperature in three groups:\n",
    "\n",
    " - Samples temperature below 25ºC\n",
    " - Samples with temperatures between 25ºC and 27ºC\n",
    " - Samples above 27ºC\n",
    "\n",
    "Given the dataset below, make three different variables containing the samples separated by the temperature ranges."
   ]
  },
  {
   "cell_type": "code",
   "execution_count": 12,
   "metadata": {},
   "outputs": [],
   "source": [
    "samples = [\n",
    "    {\"Date\":\"20/03/2002\",\n",
    "    \"Measures\":[12,14,2,16],\n",
    "    \"Temperature\":28},\n",
    "    {\"Date\":\"12/03/2002\",\n",
    "    \"Measures\":[15,3],\n",
    "    \"Temperature\":26},\n",
    "    {\"Date\":\"15/03/2002\",\n",
    "    \"Measures\":[14,6,10,8,4],\n",
    "    \"Temperature\":23},\n",
    "    {\"Date\":\"18/03/2002\",\n",
    "    \"Measures\":[13,6,18,6,7],\n",
    "    \"Temperature\":27},\n",
    "    {\"Date\":\"02/03/2002\",\n",
    "    \"Measures\":[12,12,5,9],\n",
    "    \"Temperature\":25},\n",
    "    {\"Date\":\"09/03/2002\",\n",
    "    \"Measures\":[10,12,18,18,20],\n",
    "    \"Temperature\":28}\n",
    "]"
   ]
  },
  {
   "cell_type": "markdown",
   "metadata": {},
   "source": [
    "# Solution\n",
    "\n",
    "We need to go over the different samples in the database, we will need for that a loop. Since we know the size of our database, we can use a for loop.\n",
    "\n",
    "We need to select the samples based on the temperature, for that we will need a conditional statement to keep samples in their corresponding temperature range."
   ]
  },
  {
   "cell_type": "code",
   "execution_count": 13,
   "metadata": {},
   "outputs": [
    {
     "name": "stdout",
     "output_type": "stream",
     "text": [
      "Samples below 25:  [{'Date': '15/03/2002', 'Measures': [14, 6, 10, 8, 4], 'Temperature': 23}]\n",
      "Samples between 25 and 27:  [{'Date': '12/03/2002', 'Measures': [15, 3], 'Temperature': 26}, {'Date': '02/03/2002', 'Measures': [12, 12, 5, 9], 'Temperature': 25}]\n",
      "Samples above 27:  [{'Date': '15/03/2002', 'Measures': [14, 6, 10, 8, 4], 'Temperature': 23}]\n"
     ]
    }
   ],
   "source": [
    "#declare the variables that will be used before the statement\n",
    "samples_below_25 = []\n",
    "samples_between_25_and_27 = []\n",
    "samples_above_27 = []\n",
    "\n",
    "for i in samples:\n",
    "    if i[\"Temperature\"] < 25:\n",
    "        samples_below_25.append(i)\n",
    "    elif i[\"Temperature\"] < 27:\n",
    "        samples_between_25_and_27.append(i)\n",
    "    else:\n",
    "        samples_above_27.append(i)\n",
    "\n",
    "print(\"Samples below 25: \", samples_below_25)\n",
    "print(\"Samples between 25 and 27: \", samples_between_25_and_27)\n",
    "print(\"Samples above 27: \", samples_below_25)"
   ]
  }
 ],
 "metadata": {
  "kernelspec": {
   "display_name": "Python 3.9.13 64-bit",
   "language": "python",
   "name": "python3"
  },
  "language_info": {
   "codemirror_mode": {
    "name": "ipython",
    "version": 3
   },
   "file_extension": ".py",
   "mimetype": "text/x-python",
   "name": "python",
   "nbconvert_exporter": "python",
   "pygments_lexer": "ipython3",
   "version": "3.9.13"
  },
  "orig_nbformat": 4,
  "vscode": {
   "interpreter": {
    "hash": "e7370f93d1d0cde622a1f8e1c04877d8463912d04d973331ad4851f04de6915a"
   }
  }
 },
 "nbformat": 4,
 "nbformat_minor": 2
}
