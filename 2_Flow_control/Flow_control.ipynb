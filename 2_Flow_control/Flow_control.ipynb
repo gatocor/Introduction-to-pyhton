{
 "cells": [
  {
   "cell_type": "markdown",
   "metadata": {},
   "source": [
    "# Index\n",
    "\n",
    " 1. [Conditional](#conditional)\n",
    "    1. [Careful note on variable declaration](#declaration)\n",
    " 2. [Loops](#loops)\n",
    "    1. [For](#for)\n",
    "       1. [range](#range)\n",
    "       2. [enumerate](#enumerate)\n",
    "       3. [comprehension lists (optional)](#comprehension)\n",
    "    2. [While](#while)\n",
    "    3. [Break](#break)\n",
    "    4. [Careful with infinite loops](#infinite)\n",
    " 3. [Summary](#summary)"
   ]
  },
  {
   "cell_type": "markdown",
   "metadata": {},
   "source": [
    "<a id='conditional'></a>\n",
    "# Conditional\n",
    "\n",
    "We do not necessarily need to want all the code to go over the same steps in the code. For that, we use conditionals. The basic structure of a condition is:\n",
    "\n",
    "```python\n",
    "if some_boolean_condition:\n",
    "    #some code\n",
    "elif some_other_boolean_comparison:\n",
    "    #some other code\n",
    "else:\n",
    "    #some code any of the other conditions were fullfilled\n",
    "```\n",
    "\n",
    "A few remarks have to be made:\n",
    " 1. The `if` and `elseif` conditions must be completed with a condition, that is, an expression that is `True` or `False`. It would be good if you have a look at the Comparison, Logical and Membership operators in Cheatsheet.\n",
    " 2. After each condition, we finish with two dots `:`.\n",
    " 3. The `elif` and the `else` are not necessary. You can put them or not in the condition depending on if you need them or not.\n",
    " 4. You can put as many `elif`s as you want, but only one `else`.\n",
    " 5. The code inside the conditions must be spaced with a tab. This will happen every time that you put the `:` in any of the codes. This is compulsory for the code to work correctly. It was a programmatic decision made for the code to be clear.\n",
    "\n",
    "Let's see some examples.\n",
    "\n",
    " - **With only if**"
   ]
  },
  {
   "cell_type": "code",
   "execution_count": 1,
   "metadata": {},
   "outputs": [
    {
     "data": {
      "text/plain": [
       "10"
      ]
     },
     "execution_count": 1,
     "metadata": {},
     "output_type": "execute_result"
    }
   ],
   "source": [
    "age = 10\n",
    "\n",
    "price = 10\n",
    "if age < 10:\n",
    "    price = 0 #Change price to zero\n",
    "\n",
    "price"
   ]
  },
  {
   "cell_type": "markdown",
   "metadata": {},
   "source": [
    " - **With if and else**"
   ]
  },
  {
   "cell_type": "code",
   "execution_count": 2,
   "metadata": {},
   "outputs": [
    {
     "data": {
      "text/plain": [
       "20"
      ]
     },
     "execution_count": 2,
     "metadata": {},
     "output_type": "execute_result"
    }
   ],
   "source": [
    "age = 10\n",
    "\n",
    "if age < 10:\n",
    "    price = 0\n",
    "else:\n",
    "    price = 20\n",
    "\n",
    "price"
   ]
  },
  {
   "cell_type": "markdown",
   "metadata": {},
   "source": [
    " - **With if and elif**"
   ]
  },
  {
   "cell_type": "code",
   "execution_count": 3,
   "metadata": {},
   "outputs": [
    {
     "data": {
      "text/plain": [
       "20"
      ]
     },
     "execution_count": 3,
     "metadata": {},
     "output_type": "execute_result"
    }
   ],
   "source": [
    "age = 10\n",
    "\n",
    "if age < 10:\n",
    "    price = 0\n",
    "elif age >= 10:\n",
    "    price = 20\n",
    "\n",
    "price"
   ]
  },
  {
   "cell_type": "markdown",
   "metadata": {},
   "source": [
    " - **With everything**"
   ]
  },
  {
   "cell_type": "code",
   "execution_count": 4,
   "metadata": {},
   "outputs": [
    {
     "data": {
      "text/plain": [
       "5"
      ]
     },
     "execution_count": 4,
     "metadata": {},
     "output_type": "execute_result"
    }
   ],
   "source": [
    "age = 7\n",
    "\n",
    "if age < 10:\n",
    "    price = 5\n",
    "elif age < 15:\n",
    "    price = 10\n",
    "elif age < 18:\n",
    "    price = 15\n",
    "else:\n",
    "    price = 20\n",
    "\n",
    "price"
   ]
  },
  {
   "cell_type": "markdown",
   "metadata": {},
   "source": [
    "<a id='declaration'></a>\n",
    "## Careful note on  variable declaration\n",
    "\n",
    "When declaring variables inside conditions, you have to be careful that the variable is defined if you use it outside the conditional statement.\n",
    "\n",
    "Consider the following two cases:"
   ]
  },
  {
   "cell_type": "code",
   "execution_count": 5,
   "metadata": {},
   "outputs": [
    {
     "data": {
      "text/plain": [
       "0"
      ]
     },
     "execution_count": 5,
     "metadata": {},
     "output_type": "execute_result"
    }
   ],
   "source": [
    "age = 7\n",
    "price = 0\n",
    "\n",
    "del price #Delete the variable everywhere\n",
    "\n",
    "if age < 10:\n",
    "    price = 0\n",
    "\n",
    "price"
   ]
  },
  {
   "cell_type": "code",
   "execution_count": 6,
   "metadata": {},
   "outputs": [
    {
     "ename": "NameError",
     "evalue": "name 'price' is not defined",
     "output_type": "error",
     "traceback": [
      "\u001b[0;31m---------------------------------------------------------------------------\u001b[0m",
      "\u001b[0;31mNameError\u001b[0m                                 Traceback (most recent call last)",
      "\u001b[0;32m<ipython-input-6-6e172172e418>\u001b[0m in \u001b[0;36m<module>\u001b[0;34m\u001b[0m\n\u001b[1;32m      7\u001b[0m     \u001b[0mprice\u001b[0m \u001b[0;34m=\u001b[0m \u001b[0;36m0\u001b[0m\u001b[0;34m\u001b[0m\u001b[0;34m\u001b[0m\u001b[0m\n\u001b[1;32m      8\u001b[0m \u001b[0;34m\u001b[0m\u001b[0m\n\u001b[0;32m----> 9\u001b[0;31m \u001b[0mprice\u001b[0m\u001b[0;34m\u001b[0m\u001b[0;34m\u001b[0m\u001b[0m\n\u001b[0m",
      "\u001b[0;31mNameError\u001b[0m: name 'price' is not defined"
     ]
    }
   ],
   "source": [
    "age = 10\n",
    "price = 0\n",
    "\n",
    "del price #Delete the variable everywhere\n",
    "\n",
    "if age < 10:\n",
    "    price = 0\n",
    "\n",
    "price"
   ]
  },
  {
   "cell_type": "markdown",
   "metadata": {},
   "source": [
    "After eliminating the variable price, the conditional only creates this variable if `age < 10`. If this is the case, everything works correctly. However, in the second example, the variable does not exist since we did not enter the condition of the if statement and the variable were not created giving rise to an error.\n",
    "\n",
    "A good practise for avoiding this is to make sure that the variable is always declared in the scope that you are going to use it. See the first example we showed before."
   ]
  },
  {
   "cell_type": "code",
   "execution_count": 7,
   "metadata": {},
   "outputs": [
    {
     "data": {
      "text/plain": [
       "10"
      ]
     },
     "execution_count": 7,
     "metadata": {},
     "output_type": "execute_result"
    }
   ],
   "source": [
    "age = 10\n",
    "\n",
    "#Since I am going to use it outside the conditions, I declare the variable before the conditions to make sure it always exists.\n",
    "price = 10 \n",
    "if age < 10:\n",
    "    price = 0 #Change price to zero\n",
    "\n",
    "price"
   ]
  },
  {
   "cell_type": "markdown",
   "metadata": {},
   "source": [
    "In this way, I will always make sure I have the variable `price` declared."
   ]
  },
  {
   "cell_type": "markdown",
   "metadata": {},
   "source": [
    "<a id='loops'></a>\n",
    "# Loops\n",
    "\n",
    "Most of the power of a computer is that it can perform repetitive operations many times and a lot faster than humans.\n",
    "\n",
    "Sometimes we want the code to be run iteratively, for example when checking all the elements of a list or a dictionary, or repeat something until some criterion is met. For that, we use loop operations."
   ]
  },
  {
   "cell_type": "markdown",
   "metadata": {},
   "source": [
    "<a id='for'></a>\n",
    "## for loop\n",
    "\n",
    "For loops useful when you want to perform the same operation a fixed maximum of times. The structure it follows is,\n",
    "\n",
    "```python \n",
    "for iterator_variable in iterable_class:\n",
    "    # Do some code\n",
    "```\n",
    "\n",
    "The `iterator_variable` is a variable that we define to go over the iterable elements. The `iterable_class` is any class that can be iterated. For example, Strings, Lists and Dictionaries are iterables, but not Floats. An easy way to check if a class is iterable is to call the function `iter(X)` and check if it gives an error.\n",
    "\n",
    "Consider the following examples:\n",
    "\n",
    " - **Iterating over strings**"
   ]
  },
  {
   "cell_type": "code",
   "execution_count": 8,
   "metadata": {},
   "outputs": [
    {
     "name": "stdout",
     "output_type": "stream",
     "text": [
      "H\n",
      "o\n",
      "l\n",
      "a\n"
     ]
    }
   ],
   "source": [
    "l = \"Hola\"\n",
    "\n",
    "for i in l:\n",
    "    print(i)"
   ]
  },
  {
   "cell_type": "markdown",
   "metadata": {},
   "source": [
    " - **Iterating over lists**"
   ]
  },
  {
   "cell_type": "code",
   "execution_count": 9,
   "metadata": {},
   "outputs": [
    {
     "name": "stdout",
     "output_type": "stream",
     "text": [
      "1\n",
      "2\n",
      "3\n"
     ]
    }
   ],
   "source": [
    "l = [1,2,3]\n",
    "\n",
    "for i in l:\n",
    "    print(i)"
   ]
  },
  {
   "cell_type": "markdown",
   "metadata": {},
   "source": [
    " - **Iterating over dictionaries**\n",
    "\n",
    "Notice in the example that iterating over a dictionary gives to the iterator variables the keys. Then, we can call the values of each element by calling the dictionary with each key."
   ]
  },
  {
   "cell_type": "code",
   "execution_count": 10,
   "metadata": {},
   "outputs": [
    {
     "name": "stdout",
     "output_type": "stream",
     "text": [
      "a : 1\n",
      "b : 2\n",
      "c : 3\n"
     ]
    }
   ],
   "source": [
    "l = {\"a\":1,\"b\":2,\"c\":3}\n",
    "\n",
    "for i in l:\n",
    "    print(i, \":\", l[i])"
   ]
  },
  {
   "cell_type": "markdown",
   "metadata": {},
   "source": [
    " - **Checking a class is not iterable**"
   ]
  },
  {
   "cell_type": "code",
   "execution_count": 11,
   "metadata": {},
   "outputs": [
    {
     "ename": "TypeError",
     "evalue": "'int' object is not iterable",
     "output_type": "error",
     "traceback": [
      "\u001b[0;31m---------------------------------------------------------------------------\u001b[0m",
      "\u001b[0;31mTypeError\u001b[0m                                 Traceback (most recent call last)",
      "\u001b[0;32m<ipython-input-11-90bfa304bd69>\u001b[0m in \u001b[0;36m<module>\u001b[0;34m\u001b[0m\n\u001b[0;32m----> 1\u001b[0;31m \u001b[0miter\u001b[0m\u001b[0;34m(\u001b[0m\u001b[0;36m1\u001b[0m\u001b[0;34m)\u001b[0m\u001b[0;34m\u001b[0m\u001b[0;34m\u001b[0m\u001b[0m\n\u001b[0m",
      "\u001b[0;31mTypeError\u001b[0m: 'int' object is not iterable"
     ]
    }
   ],
   "source": [
    "iter(1)"
   ]
  },
  {
   "cell_type": "markdown",
   "metadata": {},
   "source": [
    "<a id='range'></a>\n",
    "### function range\n",
    "\n",
    "Sometimes you do not want to specifically over a created class but to make a specific iterable. In those cases, the function `range` generates an iterable for you.\n",
    "\n",
    "See the following examples:"
   ]
  },
  {
   "cell_type": "code",
   "execution_count": 12,
   "metadata": {},
   "outputs": [
    {
     "name": "stdout",
     "output_type": "stream",
     "text": [
      "0\n",
      "1\n",
      "2\n"
     ]
    }
   ],
   "source": [
    "for i in range(3): #Defining max (not included)\n",
    "    print(i)"
   ]
  },
  {
   "cell_type": "code",
   "execution_count": 13,
   "metadata": {},
   "outputs": [
    {
     "name": "stdout",
     "output_type": "stream",
     "text": [
      "1\n",
      "2\n"
     ]
    }
   ],
   "source": [
    "for i in range(1,3): #Defining min and max (max not included)\n",
    "    print(i)"
   ]
  },
  {
   "cell_type": "code",
   "execution_count": 14,
   "metadata": {},
   "outputs": [
    {
     "name": "stdout",
     "output_type": "stream",
     "text": [
      "1\n",
      "3\n",
      "5\n",
      "7\n",
      "9\n"
     ]
    }
   ],
   "source": [
    "for i in range(1,10,2): #Defining min, max and step (max not included)\n",
    "    print(i)"
   ]
  },
  {
   "cell_type": "markdown",
   "metadata": {},
   "source": [
    "- **Sum a number to a all the elements of a list**"
   ]
  },
  {
   "cell_type": "code",
   "execution_count": 15,
   "metadata": {},
   "outputs": [
    {
     "data": {
      "text/plain": [
       "[2, 3, 4]"
      ]
     },
     "execution_count": 15,
     "metadata": {},
     "output_type": "execute_result"
    }
   ],
   "source": [
    "l = [1,2,3]\n",
    "for i in range(3): #Defining min, max and step (max not included)\n",
    "    l[i] += 1\n",
    "\n",
    "l"
   ]
  },
  {
   "cell_type": "markdown",
   "metadata": {},
   "source": [
    "<a id='enumerate'></a>\n",
    "### function enumerate\n",
    "\n",
    "When going over a list, the iterator returns the elements of the list. But imagine what you want to make is to modify the elements in the list.\n",
    "\n",
    "If you perform the naive option you can see that nothing changes."
   ]
  },
  {
   "cell_type": "code",
   "execution_count": 16,
   "metadata": {},
   "outputs": [
    {
     "data": {
      "text/plain": [
       "[1, 2, 3]"
      ]
     },
     "execution_count": 16,
     "metadata": {},
     "output_type": "execute_result"
    }
   ],
   "source": [
    "l = [1,2,3]\n",
    "\n",
    "for i in l:\n",
    "    i += 1\n",
    "\n",
    "l"
   ]
  },
  {
   "cell_type": "markdown",
   "metadata": {},
   "source": [
    "This is because the information stored in `i` is a copy of each element.\n",
    "\n",
    "An alternative would be to go over the positions of the list with `range` as in one of the examples we saw before. However, you need to know or obtain the information on the length of the list to tell it to range.\n",
    "\n",
    "An alternative is to call the function `enumerate` which returns the positions and the elements of the iterable.\n",
    "\n",
    "See the following example noticing that we are defining two iterator variables, one for positions and the other for the elements."
   ]
  },
  {
   "cell_type": "code",
   "execution_count": 17,
   "metadata": {},
   "outputs": [
    {
     "name": "stdout",
     "output_type": "stream",
     "text": [
      "Position 0  Value 1\n",
      "Position 1  Value 2\n",
      "Position 2  Value 3\n"
     ]
    },
    {
     "data": {
      "text/plain": [
       "[2, 3, 4]"
      ]
     },
     "execution_count": 17,
     "metadata": {},
     "output_type": "execute_result"
    }
   ],
   "source": [
    "l = [1,2,3]\n",
    "\n",
    "for i,j in enumerate(l):\n",
    "    l[i] += 1\n",
    "    print(\"Position\",i,\" Value\",j)\n",
    "\n",
    "l"
   ]
  },
  {
   "cell_type": "markdown",
   "metadata": {},
   "source": [
    "<a id='comprehension'></a>\n",
    "### List comprehension (optional)\n",
    "\n",
    "A `list` is one of the basic containers. Sometimes if interesting to create automatic lists. \n",
    "\n",
    "Imagine that we want to create a new list with only the pair numbers of a list.\n",
    "\n",
    "We can do it now that we know with our loop function:"
   ]
  },
  {
   "cell_type": "code",
   "execution_count": 18,
   "metadata": {},
   "outputs": [
    {
     "data": {
      "text/plain": [
       "[2, 4, 6, 8, 2, 0]"
      ]
     },
     "execution_count": 18,
     "metadata": {},
     "output_type": "execute_result"
    }
   ],
   "source": [
    "l = [1,2,4,3,5,6,7,8,2,0]\n",
    "newl = []\n",
    "\n",
    "for i,j in enumerate(l):\n",
    "    if (j % 2) == 0: #Check if the residual of the division by two is zero\n",
    "        newl.append(j)\n",
    "\n",
    "newl"
   ]
  },
  {
   "cell_type": "markdown",
   "metadata": {},
   "source": [
    "Great. However, this is very verbose. Usually, we do this thing many times in a code as lists are very basic objects.\n",
    "\n",
    "We can do the same with comprehension lists. They are written with the following structure,\n",
    "\n",
    "```python\n",
    "newlist = [expression for item in iterable if condition == True]\n",
    "```\n",
    "\n",
    "Where the `if` condition is not necessary to be written if there is no condition to be met.\n",
    "\n",
    "The above example will look like this:"
   ]
  },
  {
   "cell_type": "code",
   "execution_count": 19,
   "metadata": {},
   "outputs": [
    {
     "data": {
      "text/plain": [
       "[2, 4, 6, 8, 2, 0]"
      ]
     },
     "execution_count": 19,
     "metadata": {},
     "output_type": "execute_result"
    }
   ],
   "source": [
    "l = [1,2,4,3,5,6,7,8,2,0]\n",
    "\n",
    "lnew = [j for i,j in enumerate(l) if (j % 2) == 0]\n",
    "\n",
    "lnew"
   ]
  },
  {
   "cell_type": "markdown",
   "metadata": {},
   "source": [
    "That as you can see is very close to what we did above but in a more concise manner."
   ]
  },
  {
   "cell_type": "markdown",
   "metadata": {},
   "source": [
    "<a id='while'></a>\n",
    "# while loop \n",
    "\n",
    "When we do not know the number of repetitions needed in a process, we make a while loop. It has the following structure,\n",
    "\n",
    "```python\n",
    "while condition == True:\n",
    "    #Do something\n",
    "```\n",
    "\n",
    "Let's see some examples."
   ]
  },
  {
   "cell_type": "code",
   "execution_count": 20,
   "metadata": {},
   "outputs": [
    {
     "name": "stdout",
     "output_type": "stream",
     "text": [
      "Repetition  1\n",
      "Repetition  2\n",
      "Repetition  3\n",
      "Repetition  4\n",
      "Repetition  5\n",
      "Repetition  6\n",
      "Repetition  7\n",
      "Repetition  8\n",
      "Repetition  9\n",
      "Repetition  10\n"
     ]
    }
   ],
   "source": [
    "n = 0\n",
    "\n",
    "while n < 10:\n",
    "    n += 1\n",
    "    print(\"Repetition \", n)"
   ]
  },
  {
   "cell_type": "markdown",
   "metadata": {},
   "source": [
    "<a id='break'></a>\n",
    "## Break\n",
    "\n",
    "Sometimes, we want to stop loops before the for has finished or the while has met the condition. We can use `break` for this purpose, both in `for` and `while` loops.\n",
    "\n",
    "See the following analog examples:"
   ]
  },
  {
   "cell_type": "code",
   "execution_count": 21,
   "metadata": {},
   "outputs": [
    {
     "name": "stdout",
     "output_type": "stream",
     "text": [
      "Iteration  0\n",
      "Iteration  1\n",
      "Iteration  2\n",
      "I found a value above 3.5 in iteration  3\n"
     ]
    }
   ],
   "source": [
    "l = [1,2,3,4,5,6,7,8]\n",
    "\n",
    "for i,j in enumerate(l):\n",
    "    if j > 3.5:\n",
    "        print(\"I found a value above 3.5 in iteration \",i)\n",
    "        break \n",
    "    \n",
    "    print(\"Iteration \",i)\n"
   ]
  },
  {
   "cell_type": "code",
   "execution_count": 22,
   "metadata": {},
   "outputs": [
    {
     "name": "stdout",
     "output_type": "stream",
     "text": [
      "Iteration  0\n",
      "Iteration  1\n",
      "Iteration  2\n",
      "I found a value above 3.5 in iteration  3\n"
     ]
    }
   ],
   "source": [
    "l = [1,2,3,4,5,6,7,8]\n",
    "\n",
    "count = 0\n",
    "while count < len(l):\n",
    "    if l[count] > 3.5:\n",
    "        print(\"I found a value above 3.5 in iteration \",count)\n",
    "        break \n",
    "    \n",
    "    print(\"Iteration \",count)\n",
    "    count += 1"
   ]
  },
  {
   "cell_type": "markdown",
   "metadata": {},
   "source": [
    "<a id='infinite'></a>\n",
    "# Careful with infinite loops\n",
    "\n",
    "While `for` loops are more as there are supposed to have a maximum number of steps, `while` loops do not have that closure. This means that if the condition to stop is never met, they may run forever.\n",
    "\n",
    "See the following code:\n",
    "\n",
    "```python\n",
    "n = 0\n",
    "\n",
    "while n < 10:\n",
    "    n -= 1\n",
    "```\n",
    "\n",
    "we can see that `n` will never be bigger than 10 and the loop will run forever. For this reason, it is advisable to use `for` loops always that is possible. In this sense, in the examples in the [break section](#break) where both codes do the same, it will prefer to use the loop with `for`.\n"
   ]
  },
  {
   "cell_type": "markdown",
   "metadata": {},
   "source": [
    "<a id='summary'></a>\n",
    "# Summary\n",
    "\n",
    "By the end of this script, you should have learned how to control the workflow of your code by:\n",
    "\n",
    " - Writing conditional statements and being aware of problems when defining variables inside conditional statements.\n",
    " - Making for and while loops and using several handy functions to make iterations. Be aware of potential problems with infinite loops.\n"
   ]
  },
  {
   "cell_type": "markdown",
   "metadata": {},
   "source": []
  }
 ],
 "metadata": {
  "kernelspec": {
   "display_name": "Python 3",
   "language": "python",
   "name": "python3"
  },
  "language_info": {
   "codemirror_mode": {
    "name": "ipython",
    "version": 3
   },
   "file_extension": ".py",
   "mimetype": "text/x-python",
   "name": "python",
   "nbconvert_exporter": "python",
   "pygments_lexer": "ipython3",
   "version": "3.9.13"
  },
  "vscode": {
   "interpreter": {
    "hash": "e7370f93d1d0cde622a1f8e1c04877d8463912d04d973331ad4851f04de6915a"
   }
  }
 },
 "nbformat": 4,
 "nbformat_minor": 4
}
